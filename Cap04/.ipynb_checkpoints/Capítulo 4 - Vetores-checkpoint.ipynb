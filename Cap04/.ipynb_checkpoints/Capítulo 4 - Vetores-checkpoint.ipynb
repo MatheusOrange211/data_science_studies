{
 "cells": [
  {
   "cell_type": "markdown",
   "metadata": {},
   "source": [
    "# CAPÍTULO 4 - ÁLGEBRA LINEAR\n",
    "<br>"
   ]
  },
  {
   "cell_type": "markdown",
   "metadata": {},
   "source": [
    "## Vetores\n",
    "<p> Vetores são objetos que podem ser somados juntos, gerando novos vetores, assim como podem ser multiplicados pelos chamados  <strong>escalares </strong>. Matematicamente falando, podemos definir melhor vetores como sendo  pontos em algum espaço da dimensão finita. Para analise de dados, tenhamos o entendimento que usaremos os vetores para melhor organizar nossos dados. Seja uma lista contendo [altura, idade, peso] ou algo do tipo. Caberá à nós, realizar a manipulação destas listas para conseguirmos absorver boas análises e gerar uma melhor organização de código.<br>No python, os vetores ou as estruturas conhecidas como <i>arrays</i>, recebem o nome de <i>Listas</i>. Elas possuem suas diferenças entre arrays, uma vez que permitem maior manipulação, além da criação de listas de n-dimensões, as chamadas matrizes. </p>"
   ]
  },
  {
   "cell_type": "code",
   "execution_count": 1,
   "metadata": {},
   "outputs": [],
   "source": [
    "#exemplo de lista em python\n",
    "valor = [12, 34,56,78, 89,90,123,234,456,789,(1,2),{'banana':4.99}]\n",
    "\n",
    "#As listas podem ser com vários tipos de dados\n",
    "valor1 = ['User',45,3.75,'Jogo-da-velha',True,'rua',45,12,97.1215]\n",
    "\n"
   ]
  },
  {
   "cell_type": "markdown",
   "metadata": {},
   "source": [
    "Para lermos cada valor de uma lista, usamos o laço `For`"
   ]
  },
  {
   "cell_type": "code",
   "execution_count": 2,
   "metadata": {},
   "outputs": [
    {
     "name": "stdout",
     "output_type": "stream",
     "text": [
      "12 \t \t é do tipo:  <class 'int'>\n",
      "34 \t \t é do tipo:  <class 'int'>\n",
      "56 \t \t é do tipo:  <class 'int'>\n",
      "78 \t \t é do tipo:  <class 'int'>\n",
      "89 \t \t é do tipo:  <class 'int'>\n",
      "90 \t \t é do tipo:  <class 'int'>\n",
      "123 \t \t é do tipo:  <class 'int'>\n",
      "234 \t \t é do tipo:  <class 'int'>\n",
      "456 \t \t é do tipo:  <class 'int'>\n",
      "789 \t \t é do tipo:  <class 'int'>\n",
      "(1, 2) \t \t é do tipo:  <class 'tuple'>\n",
      "{'banana': 4.99} \t \t é do tipo:  <class 'dict'>\n"
     ]
    }
   ],
   "source": [
    "for i in valor:\n",
    "    print(i,'\\t \\t é do tipo: ', type(i))"
   ]
  },
  {
   "cell_type": "markdown",
   "metadata": {},
   "source": [
    "Vamos então entender melhor como se manipular as listas em python, processo que apesar de básico é de fundamental importância para resolução de problemas <br>\n",
    "<br>\n",
    "<strong>INSERINDO</strong>"
   ]
  },
  {
   "cell_type": "code",
   "execution_count": 3,
   "metadata": {},
   "outputs": [
    {
     "name": "stdout",
     "output_type": "stream",
     "text": [
      "[12, 34, 56, 78, 89, 90, 123, 234, 456, 789, (1, 2), {'banana': 4.99}, 2020]\n"
     ]
    }
   ],
   "source": [
    "#APPEND adiciona o valor na última posição\n",
    "valor.append(2020)\n",
    "print(valor)"
   ]
  },
  {
   "cell_type": "code",
   "execution_count": 4,
   "metadata": {},
   "outputs": [
    {
     "name": "stdout",
     "output_type": "stream",
     "text": [
      "[12, 34, 2021, 56, 78, 89, 90, 123, 234, 456, 789, (1, 2), {'banana': 4.99}, 2020]\n"
     ]
    }
   ],
   "source": [
    "#INSERT adiciona o valor na posição que nós quisermos\n",
    "valor.insert(2,2021)\n",
    "print(valor)"
   ]
  },
  {
   "cell_type": "markdown",
   "metadata": {},
   "source": [
    "<strong>TAMANHO DE UMA LISTA </strong>"
   ]
  },
  {
   "cell_type": "code",
   "execution_count": 5,
   "metadata": {},
   "outputs": [
    {
     "name": "stdout",
     "output_type": "stream",
     "text": [
      "9\n"
     ]
    }
   ],
   "source": [
    "#Usamos o len para ler o comprimento de uma lista\n",
    "print(len(valor1))"
   ]
  },
  {
   "cell_type": "markdown",
   "metadata": {},
   "source": [
    "<strong>REMOVENDO</strong>"
   ]
  },
  {
   "cell_type": "code",
   "execution_count": 6,
   "metadata": {},
   "outputs": [
    {
     "name": "stdout",
     "output_type": "stream",
     "text": [
      "[12, 34, 56, 78, 89, 90, 123, 234, 456, 789, (1, 2), {'banana': 4.99}, 2020]\n"
     ]
    }
   ],
   "source": [
    "valor.remove(2021) #2021 foi removido de nossa lista \n",
    "print(valor)"
   ]
  },
  {
   "cell_type": "code",
   "execution_count": 7,
   "metadata": {},
   "outputs": [
    {
     "data": {
      "text/plain": [
       "34"
      ]
     },
     "execution_count": 7,
     "metadata": {},
     "output_type": "execute_result"
    }
   ],
   "source": [
    "#temos o POP que também remove o item da lista mas também o retorna\n",
    "#passamos no lugar do valor o seu INDICE\n",
    "valor.pop(1)"
   ]
  },
  {
   "cell_type": "code",
   "execution_count": 8,
   "metadata": {},
   "outputs": [
    {
     "data": {
      "text/plain": [
       "[12, 56, 78, 89, 90, 123, 234, 456, 789, (1, 2), {'banana': 4.99}, 2020]"
      ]
     },
     "execution_count": 8,
     "metadata": {},
     "output_type": "execute_result"
    }
   ],
   "source": [
    "valor #sem o 34"
   ]
  },
  {
   "cell_type": "markdown",
   "metadata": {},
   "source": [
    "<strong>CONTANDO QUANTOS <i>N</i> EXISTEM</strong>"
   ]
  },
  {
   "cell_type": "code",
   "execution_count": 9,
   "metadata": {},
   "outputs": [
    {
     "data": {
      "text/plain": [
       "7"
      ]
     },
     "execution_count": 9,
     "metadata": {},
     "output_type": "execute_result"
    }
   ],
   "source": [
    "#vamos contar quantos valores 25 aparecem na lista. Primeiro vou adicionar valores em uma nova lista pra testar\n",
    "valor3 = [25,25,5,25,2525,78,25,25,25,25,2578,988]\n",
    "valor3.count(25) #temos quantos valores iguais a 25?"
   ]
  },
  {
   "cell_type": "markdown",
   "metadata": {},
   "source": [
    "<strong>ORDENAR VALORES</strong>\n"
   ]
  },
  {
   "cell_type": "code",
   "execution_count": 10,
   "metadata": {},
   "outputs": [
    {
     "name": "stdout",
     "output_type": "stream",
     "text": [
      "[1, 454, 988, 4548, 5468, 77425, 78754, 552215] [552215, 78754, 77425, 5468, 4548, 988, 454, 1]\n"
     ]
    }
   ],
   "source": [
    "#podemos ordenar valores no python de forma muito simples, seja em ordem crescente ou descrescente\n",
    "valor4 = [454,4548,78754,1,5468,988,77425,552215]\n",
    "valor4.sort() #por padrão está em ordem crescente, para ordem decrescente passamos o reverse=True\n",
    "\n",
    "descrescente = [454,4548,78754,1,5468,988,77425,552215]\n",
    "descrescente.sort(reverse=True)\n",
    "\n",
    "print(valor4 ,descrescente)"
   ]
  },
  {
   "cell_type": "markdown",
   "metadata": {},
   "source": [
    "dentro do .sort() temos alguns argumentos como o <b>key</b> e o <b>reverse</b>. O key funciona como uma forma para compararmos nossos valores e assim ordenar da maneira como queremos. Queremos  ordenar por valores par na frente?, passemos então uma função. O reverse funciona para deixarmos, caso `True`, ordenado de maneira decrescente, caso `False`, em ordem crescente e por padrão ele já vem assim. Também temos o <strong>sorted()</strong>."
   ]
  },
  {
   "cell_type": "code",
   "execution_count": 11,
   "metadata": {},
   "outputs": [],
   "source": [
    "funcao = lambda elem: elem[1]"
   ]
  },
  {
   "cell_type": "code",
   "execution_count": 12,
   "metadata": {},
   "outputs": [
    {
     "name": "stdout",
     "output_type": "stream",
     "text": [
      "Lista Ordenada:  [(4, 1), (2, 2), (1, 3), (3, 4)]\n"
     ]
    }
   ],
   "source": [
    "random = [(2, 2), (3, 4), (4, 1), (1, 3)]\n",
    "random.sort(key=funcao)\n",
    "\n",
    "print('Lista Ordenada: ',random)"
   ]
  },
  {
   "cell_type": "markdown",
   "metadata": {},
   "source": [
    "<strong>REVERSE</strong>"
   ]
  },
  {
   "cell_type": "code",
   "execution_count": 13,
   "metadata": {},
   "outputs": [
    {
     "data": {
      "text/plain": [
       "[552215, 78754, 77425, 5468, 4548, 988, 454, 1]"
      ]
     },
     "execution_count": 13,
     "metadata": {},
     "output_type": "execute_result"
    }
   ],
   "source": [
    "#deixamos nossa lista invertida\n",
    "valor4.reverse()\n",
    "valor4"
   ]
  },
  {
   "cell_type": "markdown",
   "metadata": {},
   "source": [
    "<strong>LIMPAR E DELETAR LISTA </strong>"
   ]
  },
  {
   "cell_type": "code",
   "execution_count": 14,
   "metadata": {},
   "outputs": [
    {
     "data": {
      "text/plain": [
       "[]"
      ]
     },
     "execution_count": 14,
     "metadata": {},
     "output_type": "execute_result"
    }
   ],
   "source": [
    "#usamos o .clear()\n",
    "valor4.clear()\n",
    "valor4"
   ]
  },
  {
   "cell_type": "markdown",
   "metadata": {},
   "source": [
    "<strong>BUSCAR PELO INDEX </strong>"
   ]
  },
  {
   "cell_type": "code",
   "execution_count": 15,
   "metadata": {},
   "outputs": [
    {
     "data": {
      "text/plain": [
       "2"
      ]
     },
     "execution_count": 15,
     "metadata": {},
     "output_type": "execute_result"
    }
   ],
   "source": [
    "valor3.index(5)"
   ]
  },
  {
   "cell_type": "markdown",
   "metadata": {},
   "source": [
    "<strong>USANDO LISTAS COMO PILHAS </strong>"
   ]
  },
  {
   "cell_type": "code",
   "execution_count": 16,
   "metadata": {},
   "outputs": [
    {
     "data": {
      "text/plain": [
       "[3, 4, 5, 6, 7, 8, 13, 2, 15]"
      ]
     },
     "execution_count": 16,
     "metadata": {},
     "output_type": "execute_result"
    }
   ],
   "source": [
    "#Os métodos de lista tornam muito fácil utilizar listas como pilhas, \n",
    "#onde o item adicionado por último é o primeiro a ser recuperado (política “último a entrar, primeiro a sair”).\n",
    "\n",
    "pilha = [3,4,5,6,7,8]\n",
    "pilha.append(13)\n",
    "pilha.append(2)\n",
    "pilha.append(15)\n",
    "pilha"
   ]
  },
  {
   "cell_type": "code",
   "execution_count": 17,
   "metadata": {},
   "outputs": [
    {
     "data": {
      "text/plain": [
       "15"
      ]
     },
     "execution_count": 17,
     "metadata": {},
     "output_type": "execute_result"
    }
   ],
   "source": [
    "pilha.pop() #foi o último a entrar na nossa lista mas está sendo o primeiro a sair dela !"
   ]
  },
  {
   "cell_type": "code",
   "execution_count": 18,
   "metadata": {},
   "outputs": [
    {
     "data": {
      "text/plain": [
       "2"
      ]
     },
     "execution_count": 18,
     "metadata": {},
     "output_type": "execute_result"
    }
   ],
   "source": [
    "pilha.pop() # foi o ultimo a  entrar na lista ma está sendo o primeiro a sair (o 15 já saiu)"
   ]
  },
  {
   "cell_type": "markdown",
   "metadata": {},
   "source": [
    "<strong>USANDO LISTAS COMO FILA </strong>"
   ]
  },
  {
   "cell_type": "code",
   "execution_count": 19,
   "metadata": {},
   "outputs": [
    {
     "data": {
      "text/plain": [
       "deque(['maria', 'neto', 'osmar', 'Karolina', 'Matheus'])"
      ]
     },
     "execution_count": 19,
     "metadata": {},
     "output_type": "execute_result"
    }
   ],
   "source": [
    "# Você também pode usar uma lista como uma fila,onde o primeiro item adicionado \n",
    "# é o primeiro a ser recuperado (política “primeiro a entrar, primeiro a sair”);\n",
    "# porém, listas não são eficientes para esta finalidade. \n",
    "# Embora appends e pops no final da lista sejam rápidos, \n",
    "# fazer inserts ou pops no início da lista é lento (porque todos os demais elementos têm que ser deslocados).\n",
    "# Para implementar uma fila, use a classe collections.deque que foi projetada para permitir appends e pops eficientes nas duas\n",
    "# extremidades\n",
    "\n",
    "\n",
    "from collections import deque\n",
    "\n",
    "queque = deque(['maria','neto','osmar'])\n",
    "queque.append('Karolina')\n",
    "queque.append('Matheus')\n",
    "\n",
    "\n",
    "queque"
   ]
  },
  {
   "cell_type": "code",
   "execution_count": 20,
   "metadata": {},
   "outputs": [
    {
     "data": {
      "text/plain": [
       "'maria'"
      ]
     },
     "execution_count": 20,
     "metadata": {},
     "output_type": "execute_result"
    }
   ],
   "source": [
    "queque.popleft() #eliminou o primeiro da lista ( da esquerda)"
   ]
  },
  {
   "cell_type": "code",
   "execution_count": 21,
   "metadata": {},
   "outputs": [
    {
     "data": {
      "text/plain": [
       "'neto'"
      ]
     },
     "execution_count": 21,
     "metadata": {},
     "output_type": "execute_result"
    }
   ],
   "source": [
    "queque.popleft()"
   ]
  },
  {
   "cell_type": "code",
   "execution_count": 22,
   "metadata": {},
   "outputs": [
    {
     "data": {
      "text/plain": [
       "deque(['osmar', 'Karolina', 'Matheus'])"
      ]
     },
     "execution_count": 22,
     "metadata": {},
     "output_type": "execute_result"
    }
   ],
   "source": [
    "queque\n"
   ]
  },
  {
   "cell_type": "markdown",
   "metadata": {},
   "source": [
    "<strong>LIST COMPREHENSION </strong>"
   ]
  },
  {
   "cell_type": "code",
   "execution_count": 23,
   "metadata": {},
   "outputs": [
    {
     "data": {
      "text/plain": [
       "[0, 1, 2, 3, 4, 5, 6, 7, 8, 9, 10, 11, 12, 13, 14, 15, 16, 17, 18, 19, 20]"
      ]
     },
     "execution_count": 23,
     "metadata": {},
     "output_type": "execute_result"
    }
   ],
   "source": [
    "lista_nova = [i for i in range(0,21)] #criamos listas usando laço for em uma unica linha de codigo\n",
    "lista_nova"
   ]
  },
  {
   "cell_type": "markdown",
   "metadata": {},
   "source": [
    "# <font color='red'><strong>MEXENDO COM VETORES</strong></font>"
   ]
  },
  {
   "cell_type": "code",
   "execution_count": 24,
   "metadata": {
    "scrolled": true
   },
   "outputs": [],
   "source": [
    "# !pip install matplotlib\n",
    "import matplotlib.pyplot as plt\n",
    "import numpy as np"
   ]
  },
  {
   "cell_type": "code",
   "execution_count": 118,
   "metadata": {
    "scrolled": false
   },
   "outputs": [
    {
     "data": {
      "image/png": "[encoded data removed]",
      "text/plain": [
       "<Figure size 432x288 with 1 Axes>"
      ]
     },
     "metadata": {
      "needs_background": "light"
     },
     "output_type": "display_data"
    }
   ],
   "source": [
    "import math\n",
    "\n",
    "a = [2.0,4.0]\n",
    "b = [8.0,8.0]\n",
    "\n",
    "head_length = 0.7\n",
    "\n",
    "dx = b[0] - a[0]\n",
    "dy = b[1] - a[1]\n",
    "\n",
    "vec_ab = [dx,dy]\n",
    "\n",
    "vec_ab_magnitude = math.sqrt(dx**2+dy**2)\n",
    "\n",
    "dx = dx / vec_ab_magnitude\n",
    "dy = dy / vec_ab_magnitude\n",
    "\n",
    "vec_ab_magnitude = vec_ab_magnitude - head_length\n",
    "\n",
    "ax = plt.axes()\n",
    "\n",
    "ax.arrow(a[0], a[1], vec_ab_magnitude*dx, vec_ab_magnitude*dy, head_width=0.5, head_length=0.7, fc='lightblue', ec='black')\n",
    "\n",
    "plt.scatter(a[0],a[1],color='black')\n",
    "plt.scatter(b[0],b[1],color='black')\n",
    "\n",
    "ax.annotate('A', (a[0]-0.4,a[1]),fontsize=14)\n",
    "ax.annotate('B', (b[0]+0.3,b[1]),fontsize=14)\n",
    "\n",
    "plt.grid()\n",
    "\n",
    "plt.xlim(0,10)\n",
    "plt.ylim(0,10)\n",
    "\n",
    "plt.title('How to plot a vector in matplotlib ?',fontsize=10)\n",
    "\n",
    "# plt.savefig('how_to_plot_a_vector_in_matplotlib_fig2.png', bbox_inches='tight')\n",
    "plt.show()"
   ]
  },
  {
   "cell_type": "markdown",
   "metadata": {},
   "source": [
    "Vamos fazer um exemplo de função.\n",
    "teremos duas funções:<br>\n",
    "**soma_vector** = **Somará dois vetores**\n",
    "\n",
    "\\begin{equation}\n",
    "\\big[ 2 + 1 \\big]  + \\big[ 2 + 1 \\big] = \\big[1 + 2,\\space 2 + 1\\big]\n",
    "\\end{equation}\n",
    "\n",
    "**subtrair_vector** = **Subtrair dois vetores**\n",
    "\n",
    "\\begin{equation}\n",
    "\\big[ 2 - 1 \\big]  + \\big[ 2 - 1 \\big] = \\big[1 - 2,\\space 2 - 1\\big]\n",
    "\\end{equation}"
   ]
  },
  {
   "cell_type": "code",
   "execution_count": 26,
   "metadata": {},
   "outputs": [],
   "source": [
    "height_weight_age = [70,170,40]\n",
    "grades =[95,80,75,62]\n",
    "\n",
    "\n",
    "def soma_vetor(v,w):\n",
    "    return [v_i + w_i for v_i,w_i in zip(v,w)]\n",
    "\n",
    "def subtrair_vector(v,w):\n",
    "    return [v_i - w_i for v_i, w_i in zip(v,w)]\n"
   ]
  },
  {
   "cell_type": "markdown",
   "metadata": {},
   "source": [
    "https://www.oreilly.com/library/view/machine-learning-with/9781491989371/ch01.html\n",
    "    "
   ]
  },
  {
   "cell_type": "code",
   "execution_count": 27,
   "metadata": {},
   "outputs": [],
   "source": [
    "def vector_sum(vectors):\n",
    "    result = vectors[0]\n",
    "    for vector in vectors[1:]:\n",
    "        result = soma_vetor(result,vector)\n",
    "    return result"
   ]
  },
  {
   "cell_type": "code",
   "execution_count": 28,
   "metadata": {},
   "outputs": [
    {
     "name": "stdout",
     "output_type": "stream",
     "text": [
      "[165, 250, 115]\n",
      "[-25, 90, -35]\n"
     ]
    }
   ],
   "source": [
    "print(soma_vetor(height_weight_age,grades))\n",
    "print(subtrair_vector(height_weight_age,grades))"
   ]
  },
  {
   "cell_type": "markdown",
   "metadata": {},
   "source": [
    "Temos como calcular a fórmula da distância entre matrizes\n",
    "\n",
    "\\begin{equation}\n",
    "D = \\sqrt{\\big(x_b - x_a \\big)^2 + \\big(y_b - y_a \\big)^2}\n",
    "\\end{equation}\n",
    "<br>\n",
    "Vamos então criar algumas funções e realizar esses cálculos"
   ]
  },
  {
   "cell_type": "code",
   "execution_count": 33,
   "metadata": {},
   "outputs": [],
   "source": [
    "#função de produto escalar (dot product) . O produto escalar entre dois vetores é a soma de seus produtos componente a\n",
    "#componente\n",
    "def dot(v,w):\n",
    "    return sum(v_i * w_i for v_i,w_i in zip(v,w))"
   ]
  },
  {
   "cell_type": "code",
   "execution_count": 34,
   "metadata": {},
   "outputs": [],
   "source": [
    "#soma dos quadrados\n",
    "def sum_of_squares(v):\n",
    "    return dot(v,v)"
   ]
  },
  {
   "cell_type": "code",
   "execution_count": 35,
   "metadata": {},
   "outputs": [],
   "source": [
    "#calcular a magnitude\n",
    "import math \n",
    "\n",
    "def magnitude(v):\n",
    "    return math.sqrt(sum_of_squares(v))"
   ]
  },
  {
   "cell_type": "code",
   "execution_count": 36,
   "metadata": {},
   "outputs": [],
   "source": [
    "#quadrado da distância\n",
    "def squared_distance(v,w):\n",
    "    return sum_of_squares([v_i - w_i for v_i,w_i in zip(v,w)])"
   ]
  },
  {
   "cell_type": "code",
   "execution_count": 37,
   "metadata": {},
   "outputs": [],
   "source": [
    "#distancia\n",
    "def distancie(v,w):\n",
    "    return magnitude([v_i - w_i for v_i,w_i in zip(v,w)])"
   ]
  },
  {
   "cell_type": "code",
   "execution_count": 40,
   "metadata": {},
   "outputs": [
    {
     "data": {
      "text/plain": [
       "13.0"
      ]
     },
     "execution_count": 40,
     "metadata": {},
     "output_type": "execute_result"
    }
   ],
   "source": [
    "distancie([2,1],[-3,-11])"
   ]
  },
  {
   "cell_type": "markdown",
   "metadata": {},
   "source": [
    "O valor acima bate com o do exemplo abaixo\n",
    "<img src=\"https://s4.static.brasilescola.uol.com.br/be/2020/02/como-calcular-distancia-dois-pontos.jpeg\">"
   ]
  },
  {
   "cell_type": "markdown",
   "metadata": {},
   "source": [
    "# <font color='red'><strong>ANALISANDO MATRIZES</strong></font>"
   ]
  },
  {
   "cell_type": "markdown",
   "metadata": {},
   "source": [
    "Temos que uma **matriz** é uma coleção de números bidimensional. Representaremos as matrizes como lista de listas, com cada lista interior possuindo o mesmo tamanho e representando uma linha da matriz. Se **A** é uma matriz, logo **A[i][j]** é o elemento da i-ésima linha e j-ésima da coluna. Por convenção matemática, geralmente usaremos letras  maiúsculas para representar as matrizes."
   ]
  },
  {
   "cell_type": "code",
   "execution_count": 32,
   "metadata": {},
   "outputs": [
    {
     "name": "stdout",
     "output_type": "stream",
     "text": [
      "[[1, 2, 3], [4, 5, 6]] [[1, 2, 3], [4, 5, 6], [7, 8, 9]]\n"
     ]
    }
   ],
   "source": [
    "A = [[1,2,3],[4,5,6]]\n",
    "B = [[1,2,3],\n",
    "     [4,5,6],\n",
    "     [7,8,9]]\n",
    "\n",
    "\n",
    "print(A,B)"
   ]
  },
  {
   "cell_type": "markdown",
   "metadata": {},
   "source": [
    "Usando numpy para criar um array unidimensional\n"
   ]
  },
  {
   "cell_type": "code",
   "execution_count": 30,
   "metadata": {},
   "outputs": [
    {
     "data": {
      "text/plain": [
       "array([[1],\n",
       "       [2],\n",
       "       [3]])"
      ]
     },
     "execution_count": 30,
     "metadata": {},
     "output_type": "execute_result"
    }
   ],
   "source": [
    "# import numpy as np\n",
    "vector_row = np.array([1, 2, 3])\n",
    "vector_column = np.array([[1],\n",
    "                          [2],\n",
    "                          [3]])\n",
    "vector_column"
   ]
  },
  {
   "cell_type": "markdown",
   "metadata": {},
   "source": [
    "Função para retornar linhas selecionadas ou colunas"
   ]
  },
  {
   "cell_type": "code",
   "execution_count": 70,
   "metadata": {},
   "outputs": [],
   "source": [
    "def get_row(matriz,linha):\n",
    "    return matriz[linha]\n",
    "\n",
    "def get_column(matriz,column):\n",
    "    return [matriz_j[column] for matriz_j in matriz]"
   ]
  },
  {
   "cell_type": "markdown",
   "metadata": {},
   "source": [
    "Exemplo de matriz 3x3\n",
    "\\begin{equation}\n",
    "M_{3 x 3} =\n",
    "\\begin{bmatrix}\n",
    "1 & 2 & 9\\\\\n",
    "4 & 5 & 7\\\\\n",
    "1 & 2 & 3\\\\\n",
    "\\end{bmatrix}\n",
    "\\end{equation}"
   ]
  },
  {
   "cell_type": "code",
   "execution_count": 91,
   "metadata": {},
   "outputs": [
    {
     "name": "stdout",
     "output_type": "stream",
     "text": [
      "[ 58 31 59 7 44 82 3 ]\n",
      "[ 28 69 64 41 97 68 63 ]\n",
      "[ 23 18 74 94 60 92 0 ]\n",
      "[ 58 42 66 64 25 13 30 ]\n",
      "[ 53 45 63 80 83 92 54 ]\n"
     ]
    }
   ],
   "source": [
    "matriz = []\n",
    "import random \n",
    "for i in range(5):\n",
    "    linha = []\n",
    "    for j in range(7):\n",
    "        linha.append(random.randint(0,99))\n",
    "    matriz.append(linha)\n",
    "    \n",
    "        \n",
    "for i in range(len(matriz)):\n",
    "    print(\"[\",end=\" \")\n",
    "    for j in range(len(matriz[0])):\n",
    "        print(matriz[i][j],end= \" \")\n",
    "    print(\"]\")\n",
    "    "
   ]
  },
  {
   "cell_type": "code",
   "execution_count": 79,
   "metadata": {},
   "outputs": [
    {
     "data": {
      "text/plain": [
       "7"
      ]
     },
     "execution_count": 79,
     "metadata": {},
     "output_type": "execute_result"
    }
   ],
   "source": [
    "len(matriz[0])"
   ]
  },
  {
   "cell_type": "markdown",
   "metadata": {},
   "source": [
    "Buscando apenas a diagonal principal de uma matriz\n",
    "\n",
    "\\begin{equation}\n",
    "M_{3 x 3} =\n",
    "\\begin{bmatrix}\n",
    "\\color{red}1 & 2 & 7\\\\\n",
    "8 & \\color{red}5 & 4\\\\\n",
    "9 & 4 & \\color{red}3\\\\\n",
    "\\end{bmatrix}\n",
    "\\end{equation}"
   ]
  },
  {
   "cell_type": "code",
   "execution_count": 105,
   "metadata": {},
   "outputs": [
    {
     "name": "stdout",
     "output_type": "stream",
     "text": [
      "[ 25 57 23 34 45 ] "
     ]
    }
   ],
   "source": [
    "matriz_2 = []\n",
    "for i in range(5):\n",
    "    linha_2 = []\n",
    "    for j in range(5):\n",
    "        if i == j:\n",
    "            linha_2.append(random.randint(0,99))\n",
    "    matriz_2.append(linha_2)\n",
    "\n",
    "print(\"[\",end =\" \")\n",
    "for i in range(len(matriz_2)):\n",
    "    for j in range(len(matriz_2[0])):\n",
    "        print(matriz_2[i][j],end= \" \")  \n",
    "print(\"]\",end =\" \")"
   ]
  },
  {
   "cell_type": "markdown",
   "metadata": {},
   "source": [
    "Usando o numpy, podemos criar matrizes de forma mais rápida e fácil !!!\n",
    "Primeiro, vejamos os arrays. São diferentes de listas python"
   ]
  },
  {
   "cell_type": "code",
   "execution_count": 110,
   "metadata": {},
   "outputs": [
    {
     "data": {
      "text/plain": [
       "array([[1, 2, 3],\n",
       "       [1, 2, 3]])"
      ]
     },
     "execution_count": 110,
     "metadata": {},
     "output_type": "execute_result"
    }
   ],
   "source": [
    "np.array([[1,2,3],[1,2,3]])"
   ]
  },
  {
   "cell_type": "code",
   "execution_count": 113,
   "metadata": {},
   "outputs": [
    {
     "data": {
      "text/plain": [
       "array([[1, 1, 1, 1, 1, 1, 1, 1, 1, 1],\n",
       "       [1, 1, 1, 1, 1, 1, 1, 1, 1, 1],\n",
       "       [1, 1, 1, 1, 1, 1, 1, 1, 1, 1],\n",
       "       [1, 1, 1, 1, 1, 1, 1, 1, 1, 1],\n",
       "       [1, 1, 1, 1, 1, 1, 1, 1, 1, 1],\n",
       "       [1, 1, 1, 1, 1, 1, 1, 1, 1, 1],\n",
       "       [1, 1, 1, 1, 1, 1, 1, 1, 1, 1],\n",
       "       [1, 1, 1, 1, 1, 1, 1, 1, 1, 1],\n",
       "       [1, 1, 1, 1, 1, 1, 1, 1, 1, 1],\n",
       "       [1, 1, 1, 1, 1, 1, 1, 1, 1, 1]])"
      ]
     },
     "execution_count": 113,
     "metadata": {},
     "output_type": "execute_result"
    }
   ],
   "source": [
    "np.ones((10,10),dtype='int32')"
   ]
  },
  {
   "cell_type": "code",
   "execution_count": 115,
   "metadata": {},
   "outputs": [
    {
     "data": {
      "text/plain": [
       "array([[0, 0, 0, 0, 0],\n",
       "       [0, 0, 0, 0, 0],\n",
       "       [0, 0, 0, 0, 0],\n",
       "       [0, 0, 0, 0, 0],\n",
       "       [0, 0, 0, 0, 0]])"
      ]
     },
     "execution_count": 115,
     "metadata": {},
     "output_type": "execute_result"
    }
   ],
   "source": [
    "np.zeros((5,5),dtype=\"int32\")"
   ]
  },
  {
   "cell_type": "code",
   "execution_count": 117,
   "metadata": {},
   "outputs": [
    {
     "data": {
      "text/plain": [
       "array([ 1,  8, 11])"
      ]
     },
     "execution_count": 117,
     "metadata": {},
     "output_type": "execute_result"
    }
   ],
   "source": [
    "At = np.array(\n",
    "    [[1, 4, 5, 12], \n",
    "    [-5, 8, 9, 0],\n",
    "    [-6, 7, 11, 19]])\n",
    "\n",
    "\n",
    "np.diagonal(At)"
   ]
  }
 ],
 "metadata": {
  "kernelspec": {
   "display_name": "Python 3",
   "language": "python",
   "name": "python3"
  },
  "language_info": {
   "codemirror_mode": {
    "name": "ipython",
    "version": 3
   },
   "file_extension": ".py",
   "mimetype": "text/x-python",
   "name": "python",
   "nbconvert_exporter": "python",
   "pygments_lexer": "ipython3",
   "version": "3.8.3"
  }
 },
 "nbformat": 4,
 "nbformat_minor": 4
}
