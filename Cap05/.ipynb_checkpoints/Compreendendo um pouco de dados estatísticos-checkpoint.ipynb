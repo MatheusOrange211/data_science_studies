{
 "cells": [
  {
   "cell_type": "markdown",
   "metadata": {},
   "source": [
    "# CAPÍTULO 5 - ESTATÍSTICA\n",
    "<br>"
   ]
  },
  {
   "cell_type": "markdown",
   "metadata": {},
   "source": [
    "o campo da estatística é fundamental e de grande importância para que qualquer tentativa de previsão e de análise mais profunda a respeito de criação de modelos de Machine Learning. A estatística se refere à matemática e às técnicas com as quais entendemos os dados. É um campo rico, amplo, mais adequado e uma prateleira.<br>\n",
    "Dentro do campo estatístico, dado uma quantidade de dados, grandes ou pequenos, podemos analisar coisas com média, mediana, moda, relação, correlação, amplitude, dispersão de dados,além de outros assuntos como distribuição normal, muito usado para realizar análises de histogramas.<br>\n",
    "Abaixo, começaremos a entender um pouquinho sobre funções que auxiliam a realizar contas."
   ]
  },
  {
   "cell_type": "code",
   "execution_count": 1,
   "metadata": {},
   "outputs": [
    {
     "name": "stderr",
     "output_type": "stream",
     "text": [
      "WARNING: You are using pip version 20.1.1; however, version 21.0.1 is available.\n",
      "You should consider upgrading via the 'c:\\users\\usuario\\appdata\\local\\programs\\python\\python37\\python.exe -m pip install --upgrade pip' command.\n"
     ]
    },
    {
     "name": "stdout",
     "output_type": "stream",
     "text": [
      "Requirement already satisfied: seaborn in c:\\users\\usuario\\appdata\\local\\programs\\python\\python37\\lib\\site-packages (0.11.1)\n",
      "Requirement already satisfied: pandas>=0.23 in c:\\users\\usuario\\appdata\\local\\programs\\python\\python37\\lib\\site-packages (from seaborn) (1.1.5)\n",
      "Requirement already satisfied: numpy>=1.15 in c:\\users\\usuario\\appdata\\local\\programs\\python\\python37\\lib\\site-packages (from seaborn) (1.19.3)\n",
      "Requirement already satisfied: scipy>=1.0 in c:\\users\\usuario\\appdata\\local\\programs\\python\\python37\\lib\\site-packages (from seaborn) (1.6.0)\n",
      "Requirement already satisfied: matplotlib>=2.2 in c:\\users\\usuario\\appdata\\local\\programs\\python\\python37\\lib\\site-packages (from seaborn) (3.3.3)\n",
      "Requirement already satisfied: python-dateutil>=2.7.3 in c:\\users\\usuario\\appdata\\local\\programs\\python\\python37\\lib\\site-packages (from pandas>=0.23->seaborn) (2.8.1)\n",
      "Requirement already satisfied: pytz>=2017.2 in c:\\users\\usuario\\appdata\\local\\programs\\python\\python37\\lib\\site-packages (from pandas>=0.23->seaborn) (2020.4)\n",
      "Requirement already satisfied: cycler>=0.10 in c:\\users\\usuario\\appdata\\local\\programs\\python\\python37\\lib\\site-packages (from matplotlib>=2.2->seaborn) (0.10.0)\n",
      "Requirement already satisfied: kiwisolver>=1.0.1 in c:\\users\\usuario\\appdata\\local\\programs\\python\\python37\\lib\\site-packages (from matplotlib>=2.2->seaborn) (1.3.1)\n",
      "Requirement already satisfied: pyparsing!=2.0.4,!=2.1.2,!=2.1.6,>=2.0.3 in c:\\users\\usuario\\appdata\\local\\programs\\python\\python37\\lib\\site-packages (from matplotlib>=2.2->seaborn) (2.4.7)\n",
      "Requirement already satisfied: pillow>=6.2.0 in c:\\users\\usuario\\appdata\\local\\programs\\python\\python37\\lib\\site-packages (from matplotlib>=2.2->seaborn) (8.0.1)\n",
      "Requirement already satisfied: six>=1.5 in c:\\users\\usuario\\appdata\\local\\programs\\python\\python37\\lib\\site-packages (from python-dateutil>=2.7.3->pandas>=0.23->seaborn) (1.15.0)\n"
     ]
    }
   ],
   "source": [
    "#instalando o seaborn para ajuda na visualização\n",
    "!pip install seaborn"
   ]
  },
  {
   "cell_type": "markdown",
   "metadata": {},
   "source": [
    "## Usando um DataSet"
   ]
  },
  {
   "cell_type": "markdown",
   "metadata": {},
   "source": [
    "Abaixo, usaremos um *dataset*. Eles nada mais são do que **conjunto de dados**, que podem vir de arquivos de extensão **.csv**,**.xlsx**,**.txt**, etc. <br>\n",
    "\n",
    "\n",
    "Esta pasta contém os dados por trás da história Dear Mona Followup: Where Do People Drink The Most Beer, Wine And Spirits?\n",
    "Falaremos sobre o consumo de álcool  por países.\n",
    "\n",
    "Unidades: Tamanhos médios por pessoa Fonte: Organização Mundial da Saúde, Sistema Global de Informações sobre Álcool e Saúde (GISAH), 2010"
   ]
  },
  {
   "cell_type": "markdown",
   "metadata": {},
   "source": [
    "Primeiramente, importaremos o pandas, para nos auxiliar a manipular estes dados de forma mais simples. Poderiamos mexer com eles na mão? Sim, transformando em um .txt talvez, mas por enquanto, buscando entender primeiramente estatistica, vamos pular essas opções de manipulação."
   ]
  },
  {
   "cell_type": "code",
   "execution_count": 2,
   "metadata": {},
   "outputs": [],
   "source": [
    "import pandas as pd"
   ]
  },
  {
   "cell_type": "code",
   "execution_count": 3,
   "metadata": {},
   "outputs": [
    {
     "data": {
      "text/html": [
       "<div>\n",
       "<style scoped>\n",
       "    .dataframe tbody tr th:only-of-type {\n",
       "        vertical-align: middle;\n",
       "    }\n",
       "\n",
       "    .dataframe tbody tr th {\n",
       "        vertical-align: top;\n",
       "    }\n",
       "\n",
       "    .dataframe thead th {\n",
       "        text-align: right;\n",
       "    }\n",
       "</style>\n",
       "<table border=\"1\" class=\"dataframe\">\n",
       "  <thead>\n",
       "    <tr style=\"text-align: right;\">\n",
       "      <th></th>\n",
       "      <th>country</th>\n",
       "      <th>beer_servings</th>\n",
       "      <th>spirit_servings</th>\n",
       "      <th>wine_servings</th>\n",
       "      <th>total_litres_of_pure_alcohol</th>\n",
       "    </tr>\n",
       "  </thead>\n",
       "  <tbody>\n",
       "    <tr>\n",
       "      <th>0</th>\n",
       "      <td>Afghanistan</td>\n",
       "      <td>0</td>\n",
       "      <td>0</td>\n",
       "      <td>0</td>\n",
       "      <td>0.0</td>\n",
       "    </tr>\n",
       "    <tr>\n",
       "      <th>1</th>\n",
       "      <td>Albania</td>\n",
       "      <td>89</td>\n",
       "      <td>132</td>\n",
       "      <td>54</td>\n",
       "      <td>4.9</td>\n",
       "    </tr>\n",
       "    <tr>\n",
       "      <th>2</th>\n",
       "      <td>Algeria</td>\n",
       "      <td>25</td>\n",
       "      <td>0</td>\n",
       "      <td>14</td>\n",
       "      <td>0.7</td>\n",
       "    </tr>\n",
       "    <tr>\n",
       "      <th>3</th>\n",
       "      <td>Andorra</td>\n",
       "      <td>245</td>\n",
       "      <td>138</td>\n",
       "      <td>312</td>\n",
       "      <td>12.4</td>\n",
       "    </tr>\n",
       "    <tr>\n",
       "      <th>4</th>\n",
       "      <td>Angola</td>\n",
       "      <td>217</td>\n",
       "      <td>57</td>\n",
       "      <td>45</td>\n",
       "      <td>5.9</td>\n",
       "    </tr>\n",
       "  </tbody>\n",
       "</table>\n",
       "</div>"
      ],
      "text/plain": [
       "       country  beer_servings  spirit_servings  wine_servings  \\\n",
       "0  Afghanistan              0                0              0   \n",
       "1      Albania             89              132             54   \n",
       "2      Algeria             25                0             14   \n",
       "3      Andorra            245              138            312   \n",
       "4       Angola            217               57             45   \n",
       "\n",
       "   total_litres_of_pure_alcohol  \n",
       "0                           0.0  \n",
       "1                           4.9  \n",
       "2                           0.7  \n",
       "3                          12.4  \n",
       "4                           5.9  "
      ]
     },
     "execution_count": 3,
     "metadata": {},
     "output_type": "execute_result"
    }
   ],
   "source": [
    "dados = pd.read_csv('https://raw.githubusercontent.com/MatheusOrange211/data/master/alcohol-consumption/drinks.csv',sep=',')\n",
    "dados.head()"
   ]
  },
  {
   "cell_type": "markdown",
   "metadata": {},
   "source": [
    "Acima temos então nosso dataset. Com ele podemos fazer muitas manipulações interessantes e visualizar informações por meio da estatística. Vamos começar !"
   ]
  },
  {
   "cell_type": "markdown",
   "metadata": {},
   "source": [
    "# Tendência Central"
   ]
  },
  {
   "cell_type": "markdown",
   "metadata": {},
   "source": [
    "Quando estamos mexendo com dados, é interessante que tenhamos algumas noções iniciais sobre o que estamos mexendo, certo? pois bem, vamos começar vendo quantas linhas temos em nosso dataset e quantas colunas temos também."
   ]
  },
  {
   "cell_type": "code",
   "execution_count": 4,
   "metadata": {},
   "outputs": [
    {
     "name": "stdout",
     "output_type": "stream",
     "text": [
      "A quantidade de linhas é 193 e de colunas 5\n"
     ]
    }
   ],
   "source": [
    "print(f\"A quantidade de linhas é {dados.shape[0]} e de colunas {dados.shape[1]}\")"
   ]
  },
  {
   "cell_type": "markdown",
   "metadata": {},
   "source": [
    "## MÉDIA\n",
    "Beleza! Vamos primeiro saber aonde nosso estão centrados. Vamos ver, na primeira coluna `beer_servings`  qual a média  total de cervejas servidas. Para calcular a média, temos que:<br>\n",
    "\n",
    "<img src=\"data:image/jpeg;base64,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\">"
   ]
  },
  {
   "cell_type": "markdown",
   "metadata": {},
   "source": [
    "Podemos escrever em uma função de média da seguinte forma: \n",
    " * Queremos primeiro somar todos os nossos dados;\n",
    " * Dividir pela quantidade de dados (são coisas diferentes)\n",
    " \n",
    "<font color='red'>Exemplo</font>: <br>\n",
    "x = [1,2,3,4,5]<br>\n",
    "a = 5 (quantidade de valores em x)<br>\n",
    "\n",
    "média = (1+2+3+4+5)/5 <br>\n",
    "média = 3"
   ]
  },
  {
   "cell_type": "code",
   "execution_count": 5,
   "metadata": {},
   "outputs": [],
   "source": [
    "def media(valores):\n",
    "    return sum(valores)/len(valores)\n",
    "\n",
    "#sum() -----> somaremos todos os valores da nossa lista, no caso, da coluna `beer_servings` que nada mais são do que uma lista\n",
    "#com valores.\n",
    "\n",
    "#len() ----> conta a quantidade de items que temos nessa coluna"
   ]
  },
  {
   "cell_type": "markdown",
   "metadata": {},
   "source": [
    "Agora que criamos a função de média, vamos ver ela na prática. Passamos a coluna que desejamos e temos o resultado a abaixo."
   ]
  },
  {
   "cell_type": "code",
   "execution_count": 6,
   "metadata": {},
   "outputs": [
    {
     "name": "stdout",
     "output_type": "stream",
     "text": [
      "Média de cervejas servidas ao total: 106.16\n"
     ]
    }
   ],
   "source": [
    "print(f\"Média de cervejas servidas ao total: {media(dados['beer_servings']):.2f}\")"
   ]
  },
  {
   "cell_type": "markdown",
   "metadata": {},
   "source": [
    "## MEDIANA\n",
    "Já sabemos a nossa média, mas podemos também descobri a mediana, que nada mais é que o valor do meio de toda a nossa lista de valores de uma coluna.\n",
    "<img src=\"https://image.slidesharecdn.com/parte-5-medidas-para-dados-agrupados-1228352551865901-8/95/cap2-parte-5-medidas-para-dados-agrupados-9-728.jpg?cb=1228325909\">"
   ]
  },
  {
   "cell_type": "markdown",
   "metadata": {},
   "source": [
    "Existem algumas regrinhas chatas com relação a mediana que você deve prestar atenção. Primeiro, os dados devem estar ordenados. Isso determinará o nosso valor do meio. Outra coisa é que, para descobrir a mediana de uma lista de valores de tamanho ímpar é tranquilo, contudo, para uma lista de valores par, a situação muda. Você terá de pegar os dois valores centrais e deles tirar uma média para aí sim ter a mediana. Vejamos abaixo a função para ficar mais fácil o entendimento."
   ]
  },
  {
   "cell_type": "code",
   "execution_count": 7,
   "metadata": {},
   "outputs": [],
   "source": [
    "def mediana(valores):\n",
    "    n = len(valores)                          # comprimento da lista \n",
    "    ordenados = sorted(valores)               # Ordenamos os valores. Isso impacta muito o resultado final\n",
    "    valor_do_meio = n // 2                    # Dividimos de forma inteira o comprimimento da lista por 2 p/ achar o valor\n",
    "    \n",
    "    if n % 2 == 1:\n",
    "        #se a nossa lista de valores tiver um tamanho ímpar então já achamos a mediana\n",
    "        return ordenados[valor_do_meio] #retorna o valor X presente na lista de ordenados. Será a nossa mediana\n",
    "    else:\n",
    "        #se for par, precisaremos tirar a média entre os dois valores mais ao meio da lista de ordenados\n",
    "        pre_mediana = valor_do_meio - 1\n",
    "        pos_mediana = valor_do_meio + 1 \n",
    "        \n",
    "        #Pego o valor que vem antes da mediana e o que vem depois dela, somo eles e divido por 2. Achamos a mediana ou o\n",
    "        #valor que representa 50% dos dados existentes na lista.\n",
    "        return (ordenados[pre_mediana] +  ordenados[pos_mediana]) / 2"
   ]
  },
  {
   "cell_type": "code",
   "execution_count": 8,
   "metadata": {},
   "outputs": [
    {
     "name": "stdout",
     "output_type": "stream",
     "text": [
      "Nossa Mediana é de : 76\n"
     ]
    }
   ],
   "source": [
    "print(f\"Nossa Mediana é de : {mediana(dados['beer_servings'])}\")"
   ]
  },
  {
   "cell_type": "markdown",
   "metadata": {},
   "source": [
    "Diferente da Média, a mediana não depende de ada valor nos seus dados. Na média, se eu adicionasse um valor 2000, pode ter certeza que eu estaria mudando o valor final da média, já da mediana não."
   ]
  },
  {
   "cell_type": "markdown",
   "metadata": {},
   "source": [
    "## MODA\n",
    "\n",
    "A moda é basicamente uma forma de saber quais são os dados que mais aparecem ao longo do seu conjunto de valores."
   ]
  },
  {
   "cell_type": "code",
   "execution_count": 9,
   "metadata": {},
   "outputs": [],
   "source": [
    "from collections import Counter\n",
    "\n",
    "def moda(x):\n",
    "    counts = Counter(x)\n",
    "    max_count = max(counts.values())\n",
    "    return [x_i for x_i, count  in counts.items() if count == max_count]\n",
    "    "
   ]
  },
  {
   "cell_type": "code",
   "execution_count": 10,
   "metadata": {},
   "outputs": [
    {
     "data": {
      "text/plain": [
       "[0]"
      ]
     },
     "execution_count": 10,
     "metadata": {},
     "output_type": "execute_result"
    }
   ],
   "source": [
    "moda(dados['beer_servings'])"
   ]
  },
  {
   "cell_type": "markdown",
   "metadata": {},
   "source": [
    "## QUANTIL\n",
    "\n",
    "Se a mediana representa 50% de uma lista de dados, podemos então descobrir os valor que representa 25% ou mesmo 75% da lista de dados? **Sim**.Vejamos então."
   ]
  },
  {
   "cell_type": "code",
   "execution_count": 11,
   "metadata": {},
   "outputs": [],
   "source": [
    "def quantil_dados(valores, porcentagem):\n",
    "    #retorna o valor p-ésimo de uma porcentagem passada para uma lista x\n",
    "    p_index = int(porcentagem * len(valores)) # multiplico a porcentagem que passo pelo comprimento da minha lista de valores\n",
    "    return sorted(valores)[p_index] #ordeno minha lista de valores e peço para que retorne o valor de número p  correspondente"
   ]
  },
  {
   "cell_type": "code",
   "execution_count": 12,
   "metadata": {},
   "outputs": [
    {
     "name": "stdout",
     "output_type": "stream",
     "text": [
      "25% dos dados corresponde ao valor = 20 \n",
      "50% dos dados corresponde ao valor = 76 <----MEDIANA\n",
      "75% dos dados corresponde ao valor = 188\n",
      "95% dos dados corresponde ao valor = 297\n"
     ]
    }
   ],
   "source": [
    "print(f\"25% dos dados corresponde ao valor = { quantil_dados(dados['beer_servings'],0.25)} \\n\\\n",
    "50% dos dados corresponde ao valor = { quantil_dados(dados['beer_servings'],0.5)} <----MEDIANA\\n\\\n",
    "75% dos dados corresponde ao valor = { quantil_dados(dados['beer_servings'],0.75)}\\n\\\n",
    "95% dos dados corresponde ao valor = { quantil_dados(dados['beer_servings'],0.95)}\")"
   ]
  },
  {
   "cell_type": "markdown",
   "metadata": {},
   "source": [
    "## AMPLITUDE"
   ]
  },
  {
   "cell_type": "markdown",
   "metadata": {},
   "source": [
    "A amplitude serve para termos uma noção de como nossos dados estão dispersos. "
   ]
  },
  {
   "cell_type": "code",
   "execution_count": 13,
   "metadata": {},
   "outputs": [],
   "source": [
    "def amplitude(x):\n",
    "    return max(x) - min(x)"
   ]
  },
  {
   "cell_type": "code",
   "execution_count": 14,
   "metadata": {
    "scrolled": true
   },
   "outputs": [
    {
     "data": {
      "text/plain": [
       "376"
      ]
     },
     "execution_count": 14,
     "metadata": {},
     "output_type": "execute_result"
    }
   ],
   "source": [
    "amplitude(dados['beer_servings'])"
   ]
  },
  {
   "cell_type": "markdown",
   "metadata": {},
   "source": [
    "## VARIÂNCIA "
   ]
  },
  {
   "cell_type": "markdown",
   "metadata": {},
   "source": [
    "A variância é uma medida de dispersão que mostra o quão distante cada valor desse conjunto está do valor central (médio).\n",
    "\n",
    "Quanto menor é a variância, mais próximos os valores estão da média; mas quanto maior ela é, mais os valores estão distantes da média.\n",
    "\n",
    "variância para população:\n",
    "\n",
    "<img src=\"https://voceconcursado.com.br/wp-content/uploads/2018/09/var.jpg\">\n",
    "\n",
    "para uma amostra seria **N - 1**"
   ]
  },
  {
   "cell_type": "code",
   "execution_count": 15,
   "metadata": {},
   "outputs": [],
   "source": [
    "#parte de cima\n",
    "def de_mean(x):\n",
    "    x_bar  = media(x) #recebe a média da lista de valores de uma coluna por exemplo\n",
    "    return [x_i - x_bar for x_i in x] #diminui cada valor da lista de valores pela média "
   ]
  },
  {
   "cell_type": "code",
   "execution_count": 16,
   "metadata": {},
   "outputs": [],
   "source": [
    "def dot (v,w):    #essa função realiza o produto entre dois valores que são somados depois\n",
    "    # v_i * v_w + v_i * w_i ......\n",
    "    return sum( v_i * w_i for v_i,w_i in zip(v,w))\n",
    "\n",
    "def sum_of_squares(v): #soma dos quadrados\n",
    "    # v_1 * v_1 + v_2 * v_2 + .......\n",
    "    return dot(v,v)"
   ]
  },
  {
   "cell_type": "code",
   "execution_count": 17,
   "metadata": {},
   "outputs": [],
   "source": [
    "def variancia (x):\n",
    "    n = len(x)\n",
    "    deviacoes = de_mean(x)\n",
    "    return  (sum_of_squares(deviacoes)/ (n - 1))"
   ]
  },
  {
   "cell_type": "code",
   "execution_count": 18,
   "metadata": {},
   "outputs": [
    {
     "data": {
      "text/plain": [
       "10229.927191278055"
      ]
     },
     "execution_count": 18,
     "metadata": {},
     "output_type": "execute_result"
    }
   ],
   "source": [
    "variancia(dados['beer_servings'].values) #para amostra"
   ]
  },
  {
   "cell_type": "code",
   "execution_count": 19,
   "metadata": {},
   "outputs": [
    {
     "data": {
      "text/plain": [
       "10176.92238717818"
      ]
     },
     "execution_count": 19,
     "metadata": {},
     "output_type": "execute_result"
    }
   ],
   "source": [
    "#numpy teste\n",
    "import numpy as np\n",
    "np.var(dados['beer_servings'].values) #o valor diferente ocorre pq o numpy calcula para população. Entretanto\n",
    "                                      # se removermos n-1 e colocarmos n apenas, os resultados ficam iguais"
   ]
  },
  {
   "cell_type": "markdown",
   "metadata": {},
   "source": [
    "Esse valor significa que os valores estão em torno de 10229.92 de distância da média.\n",
    "Quanto maior for a variância, mais distantes da média estarão os valores, e quanto menor for a variância, mais próximos os valores estarão da média."
   ]
  },
  {
   "cell_type": "markdown",
   "metadata": {},
   "source": [
    "## DESVIO PADRÃO\n",
    "\n",
    "A variância não é um bom estimador não nos ajuda muito. Vamos ver então o desvio padrão. é simplesmente o resultado positivo da raiz quadrada da variância. Na prática, o desvio padrão indica qual é o “erro” se quiséssemos substituir um dos valores coletados pelo valor da média.\n",
    "\n",
    "<img src=\"https://images.educamaisbrasil.com.br/content/banco_de_imagens/guia-de-estudo/D/desvio-padrao-matematica.jpg\">"
   ]
  },
  {
   "cell_type": "code",
   "execution_count": 20,
   "metadata": {},
   "outputs": [],
   "source": [
    "import math\n",
    "\n",
    "def desvio_padrao(x):\n",
    "    return math.sqrt(variancia(x))"
   ]
  },
  {
   "cell_type": "markdown",
   "metadata": {},
   "source": [
    "temos agora o valor do nosso desvio padrão."
   ]
  },
  {
   "cell_type": "code",
   "execution_count": 21,
   "metadata": {},
   "outputs": [
    {
     "data": {
      "text/plain": [
       "101.14310253931335"
      ]
     },
     "execution_count": 21,
     "metadata": {},
     "output_type": "execute_result"
    }
   ],
   "source": [
    "desvio_padrao(dados['beer_servings'].values)"
   ]
  },
  {
   "cell_type": "code",
   "execution_count": 22,
   "metadata": {},
   "outputs": [
    {
     "data": {
      "text/plain": [
       "100.88073347858936"
      ]
     },
     "execution_count": 22,
     "metadata": {},
     "output_type": "execute_result"
    }
   ],
   "source": [
    "dados['beer_servings'].values.std()"
   ]
  },
  {
   "cell_type": "markdown",
   "metadata": {},
   "source": [
    "Quando o desvio é baixo quer dizer que os dados do conjunto estão mais próximos da média.<br>\n",
    "Visualmente temos isso"
   ]
  },
  {
   "cell_type": "code",
   "execution_count": 23,
   "metadata": {},
   "outputs": [],
   "source": [
    "import matplotlib.pyplot as plt\n",
    "import seaborn as sns\n",
    "\n",
    "sns.set()"
   ]
  },
  {
   "cell_type": "code",
   "execution_count": 24,
   "metadata": {
    "scrolled": true
   },
   "outputs": [
    {
     "data": {
      "image/png": "[encoded data removed]",
      "text/plain": [
       "<Figure size 1080x360 with 1 Axes>"
      ]
     },
     "metadata": {},
     "output_type": "display_data"
    }
   ],
   "source": [
    "plt.figure(figsize=(15,5))\n",
    "ax = sns.histplot(data= dados, x= 'beer_servings',kde=True)\n",
    "ax.axvline(media(dados['beer_servings']), color='r',linewidth=3)\n",
    "ax.axvline(mediana(dados['beer_servings']), color='purple',linewidth=3)\n",
    "ax.axvline(desvio_padrao(dados['beer_servings']), color='g',linewidth=3)\n",
    "ax.axvline(moda(dados['beer_servings']), color='orange',linewidth=3)\n",
    "\n",
    "plt.legend(['KDE','MÉDIA','MEDIANA','DESVIO PADRÃO','MODA'])\n",
    "plt.title(\"Visualizando as informações de tendência central mais usadas\")\n",
    "plt.show()"
   ]
  },
  {
   "cell_type": "markdown",
   "metadata": {},
   "source": [
    "## <font color=green>Relação entre média, mediana e moda</font>\n",
    "***\n",
    "\n",
    "<img src='https://caelum-online-public.s3.amazonaws.com/1177-estatistica-parte1/01/img004.png' width='80%'>\n",
    "\n",
    "Observe como nosso gráfico se comporta"
   ]
  },
  {
   "cell_type": "markdown",
   "metadata": {},
   "source": [
    "Pequenos comportamentos como esse tendem a revelar boas informações mais pra frente."
   ]
  },
  {
   "cell_type": "markdown",
   "metadata": {},
   "source": [
    "Com conhecimentos mais aprofundados em estatística e probabilidade (coisas que veremos mais tarde), podemos realiazar análises mais adequadas de gráficos de dispersão de um treinamento de modelo de regressão linear por exemplo, onde ter conhecimentos em estatística, probabilidade e cálculo são fundamentais para a busca do melhor desemepenho do modelo."
   ]
  },
  {
   "cell_type": "code",
   "execution_count": 48,
   "metadata": {},
   "outputs": [
    {
     "data": {
      "image/png": "[encoded data removed]",
      "text/plain": [
       "<Figure size 1080x360 with 1 Axes>"
      ]
     },
     "metadata": {},
     "output_type": "display_data"
    }
   ],
   "source": [
    "plt.figure(figsize=(15,5))\n",
    "sns.regplot(data=dados,x='beer_servings',y='wine_servings')\n",
    "plt.title(\"Exemplo de gráfico de dispersão com uma reta de regressão linear\",size=18,color='r')\n",
    "plt.show()"
   ]
  },
  {
   "cell_type": "markdown",
   "metadata": {},
   "source": [
    "## Paradoxo de Simpson"
   ]
  },
  {
   "cell_type": "markdown",
   "metadata": {},
   "source": [
    "Dentro do livro, um outro ponto importante é tratado que é o paradoxo de simpson. Define-se como:<br>\n",
    "> é um fenômeno em probabilidade e estatística , em que uma tendência aparece em diversos grupos de dados, mas desaparece ou reverte quando esses grupos são combinados. Muito comum de aparecer este tipo de problema quando mexemos com dados medicos ou de pesquisa social, por exemplo.\n",
    "\n",
    "Um exemplo visual ajuda a entender melhor"
   ]
  },
  {
   "attachments": {},
   "cell_type": "markdown",
   "metadata": {},
   "source": [
    "<img src=\"https://upload.wikimedia.org/wikipedia/commons/thumb/4/47/Simpson%27s_paradox_continuous.svg/1024px-Simpson%27s_paradox_continuous.svg.png\" width=420px>"
   ]
  },
  {
   "cell_type": "markdown",
   "metadata": {},
   "source": [
    "Paradoxo de Simpson para dados quantitativos: uma tendência positiva (<font color='blue'><b>===</b></font>, <font color='red'><b>===</b></font>) aparece para dois grupos separados, enquanto que  uma tendência negativa (<font color='black'><b>----</b></font>) aparece quando os grupos são combinados."
   ]
  },
  {
   "cell_type": "markdown",
   "metadata": {},
   "source": [
    "<img src=\"https://upload.wikimedia.org/wikipedia/commons/f/fb/Simpsons_paradox_-_animation.gif\">\n",
    "\n",
    "<br>\n",
    "Visualização alternativa do paradoxo de Simpson em dados que se assemelham à variabilidade do mundo real indica que o risco de erro de julgamento do relacionamento verdadeiro pode ser difícil de detectar"
   ]
  },
  {
   "cell_type": "markdown",
   "metadata": {},
   "source": [
    "**Um exemplo Real que pode gerar muita dor de cabeça se não for bem analisado**:"
   ]
  },
  {
   "cell_type": "markdown",
   "metadata": {},
   "source": [
    "### Viés de gênero da Universidade de Berkeley\n",
    "Um dos exemplos mais conhecidos do paradoxo de Simpson é um estudo de preconceito de gênero entre admissões de pós-graduação na Universidade da Califórnia, em Berkeley . Os números de admissão para o outono de 1973 mostraram que os homens que se candidatavam eram mais propensos do que as mulheres a serem admitidos, e a diferença era tão grande que era improvável que fosse devido ao acaso.\n",
    "\n"
   ]
  },
  {
   "attachments": {
    "image.png": {
     "image/png": "[encoded data removed]"
    }
   },
   "cell_type": "markdown",
   "metadata": {},
   "source": [
    "![image.png](attachment:image.png)"
   ]
  },
  {
   "attachments": {
    "image.png": {
     "image/png": "[encoded data removed]"
    }
   },
   "cell_type": "markdown",
   "metadata": {},
   "source": [
    "Mas ao examinar os departamentos individualmente, seis dos 85 departamentos mostrou um viés estatisticamente contra a admissão de homens, enquanto apenas quatro tinham viés contra mulheres. De fato, os dados agrupados e corrigidos mostraram um \"viés pequeno, mas estatisticamente significativo, em favor das mulheres\". Os dados dos seis maiores departamentos estão listados abaixo, os dois principais departamentos por número de candidatos para cada gênero em itálico.\n",
    "\n",
    "![image.png](attachment:image.png)\n",
    "\n",
    "O trabalho de pesquisa de Bickel concluíram que as mulheres tenderam, nesse caso, a se inscrever em departamentos competitivos com baixas taxas de admissão mesmo entre candidatos qualificados (como no Departamento de Inglês), enquanto os homens tendem a se inscrever em departamentos menos competitivos com altas taxas de admissão entre os candidatos qualificados (como em engenharia e química )."
   ]
  },
  {
   "cell_type": "markdown",
   "metadata": {},
   "source": [
    "O paradoxo de Simpson também pode surgir para correlações. Nesse caso, duas variáveis que aparentam ter (digamos) uma correlação positiva uma com a outra, na verdade têm uma correlação negativa devido a alguma variável de confusão \"à espreita\". Berman et al. fornece um exemplo no contexto da economia, onde um conjunto de dados sugeriria que a demanda total estaria positivamente correlacionada com o preço (ou seja, preços mais altos levam a mais demanda), em contradição com a expectativa. Uma análise detalhada revela que o tempo é a variável de confusão: a plotagem de preço e demanda versus tempo revela a correlação negativa esperada em vários períodos. Se a influência do tempo for ignorada pela simples plotagem da demanda em relação ao preço, a correlação se inverte."
   ]
  }
 ],
 "metadata": {
  "kernelspec": {
   "display_name": "Python 3",
   "language": "python",
   "name": "python3"
  },
  "language_info": {
   "codemirror_mode": {
    "name": "ipython",
    "version": 3
   },
   "file_extension": ".py",
   "mimetype": "text/x-python",
   "name": "python",
   "nbconvert_exporter": "python",
   "pygments_lexer": "ipython3",
   "version": "3.7.8"
  }
 },
 "nbformat": 4,
 "nbformat_minor": 4
}
